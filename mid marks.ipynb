{
 "cells": [
  {
   "cell_type": "code",
   "execution_count": 75,
   "id": "eb1790a9",
   "metadata": {},
   "outputs": [],
   "source": [
    "import pandas as pd\n",
    "import matplotlib.pyplot as plt\n",
    "import numpy as np\n",
    "%matplotlib inline"
   ]
  },
  {
   "cell_type": "code",
   "execution_count": 76,
   "id": "c10a1c3b",
   "metadata": {},
   "outputs": [
    {
     "data": {
      "text/html": [
       "<div>\n",
       "<style scoped>\n",
       "    .dataframe tbody tr th:only-of-type {\n",
       "        vertical-align: middle;\n",
       "    }\n",
       "\n",
       "    .dataframe tbody tr th {\n",
       "        vertical-align: top;\n",
       "    }\n",
       "\n",
       "    .dataframe thead th {\n",
       "        text-align: right;\n",
       "    }\n",
       "</style>\n",
       "<table border=\"1\" class=\"dataframe\">\n",
       "  <thead>\n",
       "    <tr style=\"text-align: right;\">\n",
       "      <th></th>\n",
       "      <th>ENROLLMENT NO</th>\n",
       "      <th>NAME</th>\n",
       "      <th>OOP</th>\n",
       "      <th>PEM</th>\n",
       "      <th>OS</th>\n",
       "      <th>COA</th>\n",
       "      <th>TOTAL</th>\n",
       "      <th>PERCENTAGE</th>\n",
       "      <th>RESULT</th>\n",
       "    </tr>\n",
       "  </thead>\n",
       "  <tbody>\n",
       "    <tr>\n",
       "      <th>0</th>\n",
       "      <td>200130116001</td>\n",
       "      <td>Bodar Tushal Shivabhai</td>\n",
       "      <td>12</td>\n",
       "      <td>23</td>\n",
       "      <td>14</td>\n",
       "      <td>12</td>\n",
       "      <td>61</td>\n",
       "      <td>50.83</td>\n",
       "      <td>PASS</td>\n",
       "    </tr>\n",
       "    <tr>\n",
       "      <th>1</th>\n",
       "      <td>200130116002</td>\n",
       "      <td>Gajera Rashmin Rasikbhai</td>\n",
       "      <td>25</td>\n",
       "      <td>29</td>\n",
       "      <td>20</td>\n",
       "      <td>23</td>\n",
       "      <td>97</td>\n",
       "      <td>80.83</td>\n",
       "      <td>PASS</td>\n",
       "    </tr>\n",
       "    <tr>\n",
       "      <th>2</th>\n",
       "      <td>200130116003</td>\n",
       "      <td>Popatiya Munavvar Jarjisbhai</td>\n",
       "      <td>15</td>\n",
       "      <td>21</td>\n",
       "      <td>6</td>\n",
       "      <td>17</td>\n",
       "      <td>59</td>\n",
       "      <td>49.17</td>\n",
       "      <td>FAIL</td>\n",
       "    </tr>\n",
       "    <tr>\n",
       "      <th>3</th>\n",
       "      <td>200130116004</td>\n",
       "      <td>Modi Parth Rakeshkumar</td>\n",
       "      <td>22</td>\n",
       "      <td>29</td>\n",
       "      <td>18</td>\n",
       "      <td>21</td>\n",
       "      <td>90</td>\n",
       "      <td>75.00</td>\n",
       "      <td>PASS</td>\n",
       "    </tr>\n",
       "    <tr>\n",
       "      <th>4</th>\n",
       "      <td>200130116005</td>\n",
       "      <td>Jain Vivekkumar Ashok</td>\n",
       "      <td>20</td>\n",
       "      <td>30</td>\n",
       "      <td>21</td>\n",
       "      <td>20</td>\n",
       "      <td>91</td>\n",
       "      <td>75.83</td>\n",
       "      <td>PASS</td>\n",
       "    </tr>\n",
       "    <tr>\n",
       "      <th>5</th>\n",
       "      <td>200130116008</td>\n",
       "      <td>Hadiyal Yash Ghanshyambhai</td>\n",
       "      <td>12</td>\n",
       "      <td>27</td>\n",
       "      <td>15</td>\n",
       "      <td>17</td>\n",
       "      <td>71</td>\n",
       "      <td>59.17</td>\n",
       "      <td>PASS</td>\n",
       "    </tr>\n",
       "    <tr>\n",
       "      <th>6</th>\n",
       "      <td>200130116009</td>\n",
       "      <td>Sondagar Manthan Kiritbhai</td>\n",
       "      <td>24</td>\n",
       "      <td>21</td>\n",
       "      <td>17</td>\n",
       "      <td>15</td>\n",
       "      <td>77</td>\n",
       "      <td>64.17</td>\n",
       "      <td>PASS</td>\n",
       "    </tr>\n",
       "    <tr>\n",
       "      <th>7</th>\n",
       "      <td>200130116010</td>\n",
       "      <td>Aashutosh Verma</td>\n",
       "      <td>27</td>\n",
       "      <td>30</td>\n",
       "      <td>29</td>\n",
       "      <td>20</td>\n",
       "      <td>106</td>\n",
       "      <td>88.33</td>\n",
       "      <td>PASS</td>\n",
       "    </tr>\n",
       "    <tr>\n",
       "      <th>8</th>\n",
       "      <td>200130116011</td>\n",
       "      <td>Patel Arya Jatinkumar</td>\n",
       "      <td>29</td>\n",
       "      <td>29</td>\n",
       "      <td>29</td>\n",
       "      <td>24</td>\n",
       "      <td>111</td>\n",
       "      <td>92.50</td>\n",
       "      <td>PASS</td>\n",
       "    </tr>\n",
       "    <tr>\n",
       "      <th>9</th>\n",
       "      <td>200130116012</td>\n",
       "      <td>Pampaniya Hardikbhai Dayabhai</td>\n",
       "      <td>23</td>\n",
       "      <td>24</td>\n",
       "      <td>20</td>\n",
       "      <td>21</td>\n",
       "      <td>88</td>\n",
       "      <td>73.33</td>\n",
       "      <td>PASS</td>\n",
       "    </tr>\n",
       "    <tr>\n",
       "      <th>10</th>\n",
       "      <td>200130116013</td>\n",
       "      <td>Pandar Nayan Laxamanbhai</td>\n",
       "      <td>5</td>\n",
       "      <td>20</td>\n",
       "      <td>12</td>\n",
       "      <td>5</td>\n",
       "      <td>42</td>\n",
       "      <td>35.00</td>\n",
       "      <td>FAIL</td>\n",
       "    </tr>\n",
       "    <tr>\n",
       "      <th>11</th>\n",
       "      <td>200130116014</td>\n",
       "      <td>Govinda Mohitkumar Amrutlal</td>\n",
       "      <td>20</td>\n",
       "      <td>27</td>\n",
       "      <td>23</td>\n",
       "      <td>17</td>\n",
       "      <td>87</td>\n",
       "      <td>72.50</td>\n",
       "      <td>PASS</td>\n",
       "    </tr>\n",
       "    <tr>\n",
       "      <th>12</th>\n",
       "      <td>200130116015</td>\n",
       "      <td>Kikani Jayeshkumar</td>\n",
       "      <td>21</td>\n",
       "      <td>17</td>\n",
       "      <td>12</td>\n",
       "      <td>12</td>\n",
       "      <td>62</td>\n",
       "      <td>51.67</td>\n",
       "      <td>PASS</td>\n",
       "    </tr>\n",
       "    <tr>\n",
       "      <th>13</th>\n",
       "      <td>200130116016</td>\n",
       "      <td>Patel Princekumar Rajeshbhai</td>\n",
       "      <td>24</td>\n",
       "      <td>24</td>\n",
       "      <td>20</td>\n",
       "      <td>15</td>\n",
       "      <td>83</td>\n",
       "      <td>69.17</td>\n",
       "      <td>PASS</td>\n",
       "    </tr>\n",
       "    <tr>\n",
       "      <th>14</th>\n",
       "      <td>200130116017</td>\n",
       "      <td>Makwana Darshit Chimanbhai</td>\n",
       "      <td>18</td>\n",
       "      <td>18</td>\n",
       "      <td>14</td>\n",
       "      <td>12</td>\n",
       "      <td>62</td>\n",
       "      <td>51.67</td>\n",
       "      <td>PASS</td>\n",
       "    </tr>\n",
       "    <tr>\n",
       "      <th>15</th>\n",
       "      <td>200130116018</td>\n",
       "      <td>Ajagiya Ghanshyam Gopalbhai</td>\n",
       "      <td>17</td>\n",
       "      <td>29</td>\n",
       "      <td>12</td>\n",
       "      <td>14</td>\n",
       "      <td>72</td>\n",
       "      <td>60.00</td>\n",
       "      <td>PASS</td>\n",
       "    </tr>\n",
       "    <tr>\n",
       "      <th>16</th>\n",
       "      <td>200130116019</td>\n",
       "      <td>Kakadiya Smitkumar Arvindbhai</td>\n",
       "      <td>27</td>\n",
       "      <td>24</td>\n",
       "      <td>24</td>\n",
       "      <td>23</td>\n",
       "      <td>98</td>\n",
       "      <td>81.67</td>\n",
       "      <td>PASS</td>\n",
       "    </tr>\n",
       "    <tr>\n",
       "      <th>17</th>\n",
       "      <td>200130116020</td>\n",
       "      <td>Raval Dhruvilkumar Chiragkumar</td>\n",
       "      <td>29</td>\n",
       "      <td>30</td>\n",
       "      <td>23</td>\n",
       "      <td>26</td>\n",
       "      <td>108</td>\n",
       "      <td>90.00</td>\n",
       "      <td>PASS</td>\n",
       "    </tr>\n",
       "    <tr>\n",
       "      <th>18</th>\n",
       "      <td>200130116021</td>\n",
       "      <td>Dholiya Gaushalkumar Bharatbhai</td>\n",
       "      <td>23</td>\n",
       "      <td>29</td>\n",
       "      <td>21</td>\n",
       "      <td>17</td>\n",
       "      <td>90</td>\n",
       "      <td>75.00</td>\n",
       "      <td>PASS</td>\n",
       "    </tr>\n",
       "    <tr>\n",
       "      <th>19</th>\n",
       "      <td>200130116022</td>\n",
       "      <td>Vaidehi Sanjaykumar Parekh</td>\n",
       "      <td>21</td>\n",
       "      <td>24</td>\n",
       "      <td>18</td>\n",
       "      <td>17</td>\n",
       "      <td>80</td>\n",
       "      <td>66.67</td>\n",
       "      <td>PASS</td>\n",
       "    </tr>\n",
       "  </tbody>\n",
       "</table>\n",
       "</div>"
      ],
      "text/plain": [
       "    ENROLLMENT NO                             NAME  OOP  PEM  OS  COA  TOTAL  \\\n",
       "0    200130116001           Bodar Tushal Shivabhai   12   23  14   12     61   \n",
       "1    200130116002         Gajera Rashmin Rasikbhai   25   29  20   23     97   \n",
       "2    200130116003     Popatiya Munavvar Jarjisbhai   15   21   6   17     59   \n",
       "3    200130116004           Modi Parth Rakeshkumar   22   29  18   21     90   \n",
       "4    200130116005            Jain Vivekkumar Ashok   20   30  21   20     91   \n",
       "5    200130116008       Hadiyal Yash Ghanshyambhai   12   27  15   17     71   \n",
       "6    200130116009       Sondagar Manthan Kiritbhai   24   21  17   15     77   \n",
       "7    200130116010                  Aashutosh Verma   27   30  29   20    106   \n",
       "8    200130116011            Patel Arya Jatinkumar   29   29  29   24    111   \n",
       "9    200130116012    Pampaniya Hardikbhai Dayabhai   23   24  20   21     88   \n",
       "10   200130116013         Pandar Nayan Laxamanbhai    5   20  12    5     42   \n",
       "11   200130116014      Govinda Mohitkumar Amrutlal   20   27  23   17     87   \n",
       "12   200130116015               Kikani Jayeshkumar   21   17  12   12     62   \n",
       "13   200130116016     Patel Princekumar Rajeshbhai   24   24  20   15     83   \n",
       "14   200130116017       Makwana Darshit Chimanbhai   18   18  14   12     62   \n",
       "15   200130116018      Ajagiya Ghanshyam Gopalbhai   17   29  12   14     72   \n",
       "16   200130116019    Kakadiya Smitkumar Arvindbhai   27   24  24   23     98   \n",
       "17   200130116020   Raval Dhruvilkumar Chiragkumar   29   30  23   26    108   \n",
       "18   200130116021  Dholiya Gaushalkumar Bharatbhai   23   29  21   17     90   \n",
       "19   200130116022       Vaidehi Sanjaykumar Parekh   21   24  18   17     80   \n",
       "\n",
       "    PERCENTAGE RESULT  \n",
       "0        50.83   PASS  \n",
       "1        80.83   PASS  \n",
       "2        49.17   FAIL  \n",
       "3        75.00   PASS  \n",
       "4        75.83   PASS  \n",
       "5        59.17   PASS  \n",
       "6        64.17   PASS  \n",
       "7        88.33   PASS  \n",
       "8        92.50   PASS  \n",
       "9        73.33   PASS  \n",
       "10       35.00   FAIL  \n",
       "11       72.50   PASS  \n",
       "12       51.67   PASS  \n",
       "13       69.17   PASS  \n",
       "14       51.67   PASS  \n",
       "15       60.00   PASS  \n",
       "16       81.67   PASS  \n",
       "17       90.00   PASS  \n",
       "18       75.00   PASS  \n",
       "19       66.67   PASS  "
      ]
     },
     "execution_count": 76,
     "metadata": {},
     "output_type": "execute_result"
    }
   ],
   "source": [
    "df=pd.read_csv(\"/home/njuser/Documents/MID RESULT.csv\")\n",
    "df.head(20)"
   ]
  },
  {
   "cell_type": "code",
   "execution_count": 77,
   "id": "8c89d9c7",
   "metadata": {},
   "outputs": [
    {
     "data": {
      "text/html": [
       "<div>\n",
       "<style scoped>\n",
       "    .dataframe tbody tr th:only-of-type {\n",
       "        vertical-align: middle;\n",
       "    }\n",
       "\n",
       "    .dataframe tbody tr th {\n",
       "        vertical-align: top;\n",
       "    }\n",
       "\n",
       "    .dataframe thead th {\n",
       "        text-align: right;\n",
       "    }\n",
       "</style>\n",
       "<table border=\"1\" class=\"dataframe\">\n",
       "  <thead>\n",
       "    <tr style=\"text-align: right;\">\n",
       "      <th></th>\n",
       "      <th>ENROLLMENT NO</th>\n",
       "      <th>NAME</th>\n",
       "      <th>OOP</th>\n",
       "      <th>PEM</th>\n",
       "      <th>OS</th>\n",
       "      <th>COA</th>\n",
       "      <th>TOTAL</th>\n",
       "      <th>PERCENTAGE</th>\n",
       "      <th>RESULT</th>\n",
       "    </tr>\n",
       "  </thead>\n",
       "  <tbody>\n",
       "    <tr>\n",
       "      <th>2</th>\n",
       "      <td>200130116003</td>\n",
       "      <td>Popatiya Munavvar Jarjisbhai</td>\n",
       "      <td>15</td>\n",
       "      <td>21</td>\n",
       "      <td>6</td>\n",
       "      <td>17</td>\n",
       "      <td>59</td>\n",
       "      <td>49.17</td>\n",
       "      <td>FAIL</td>\n",
       "    </tr>\n",
       "    <tr>\n",
       "      <th>10</th>\n",
       "      <td>200130116013</td>\n",
       "      <td>Pandar Nayan Laxamanbhai</td>\n",
       "      <td>5</td>\n",
       "      <td>20</td>\n",
       "      <td>12</td>\n",
       "      <td>5</td>\n",
       "      <td>42</td>\n",
       "      <td>35.00</td>\n",
       "      <td>FAIL</td>\n",
       "    </tr>\n",
       "    <tr>\n",
       "      <th>23</th>\n",
       "      <td>200130116027</td>\n",
       "      <td>Chaudhari Niralikumari Sureshbhai</td>\n",
       "      <td>5</td>\n",
       "      <td>20</td>\n",
       "      <td>12</td>\n",
       "      <td>12</td>\n",
       "      <td>49</td>\n",
       "      <td>40.83</td>\n",
       "      <td>FAIL</td>\n",
       "    </tr>\n",
       "    <tr>\n",
       "      <th>35</th>\n",
       "      <td>200130116039</td>\n",
       "      <td>Rank Preet Dineshbhai</td>\n",
       "      <td>8</td>\n",
       "      <td>20</td>\n",
       "      <td>6</td>\n",
       "      <td>6</td>\n",
       "      <td>40</td>\n",
       "      <td>33.33</td>\n",
       "      <td>FAIL</td>\n",
       "    </tr>\n",
       "    <tr>\n",
       "      <th>43</th>\n",
       "      <td>200130116048</td>\n",
       "      <td>Desai Srujankumar Dineshbhai</td>\n",
       "      <td>17</td>\n",
       "      <td>23</td>\n",
       "      <td>8</td>\n",
       "      <td>14</td>\n",
       "      <td>62</td>\n",
       "      <td>51.67</td>\n",
       "      <td>FAIL</td>\n",
       "    </tr>\n",
       "    <tr>\n",
       "      <th>48</th>\n",
       "      <td>200130116053</td>\n",
       "      <td>Patel Aksh Ghanshyambhai</td>\n",
       "      <td>3</td>\n",
       "      <td>17</td>\n",
       "      <td>9</td>\n",
       "      <td>12</td>\n",
       "      <td>41</td>\n",
       "      <td>34.17</td>\n",
       "      <td>FAIL</td>\n",
       "    </tr>\n",
       "    <tr>\n",
       "      <th>52</th>\n",
       "      <td>200130116057</td>\n",
       "      <td>Chaudhari Shraddhaben Nathubhai</td>\n",
       "      <td>9</td>\n",
       "      <td>26</td>\n",
       "      <td>12</td>\n",
       "      <td>8</td>\n",
       "      <td>55</td>\n",
       "      <td>45.83</td>\n",
       "      <td>FAIL</td>\n",
       "    </tr>\n",
       "    <tr>\n",
       "      <th>53</th>\n",
       "      <td>200130116058</td>\n",
       "      <td>Damor Smit Chhaganbhai</td>\n",
       "      <td>0</td>\n",
       "      <td>12</td>\n",
       "      <td>5</td>\n",
       "      <td>3</td>\n",
       "      <td>20</td>\n",
       "      <td>16.67</td>\n",
       "      <td>FAIL</td>\n",
       "    </tr>\n",
       "    <tr>\n",
       "      <th>54</th>\n",
       "      <td>200130116059</td>\n",
       "      <td>Aaditya.N.Chaturvedi</td>\n",
       "      <td>24</td>\n",
       "      <td>20</td>\n",
       "      <td>9</td>\n",
       "      <td>12</td>\n",
       "      <td>65</td>\n",
       "      <td>54.17</td>\n",
       "      <td>FAIL</td>\n",
       "    </tr>\n",
       "    <tr>\n",
       "      <th>55</th>\n",
       "      <td>200130116060</td>\n",
       "      <td>Gatecha Soham Pankajbhai</td>\n",
       "      <td>17</td>\n",
       "      <td>23</td>\n",
       "      <td>9</td>\n",
       "      <td>9</td>\n",
       "      <td>58</td>\n",
       "      <td>48.33</td>\n",
       "      <td>FAIL</td>\n",
       "    </tr>\n",
       "    <tr>\n",
       "      <th>59</th>\n",
       "      <td>200130116065</td>\n",
       "      <td>Vasanka Nevil Rakeshbhai</td>\n",
       "      <td>12</td>\n",
       "      <td>27</td>\n",
       "      <td>6</td>\n",
       "      <td>12</td>\n",
       "      <td>57</td>\n",
       "      <td>47.50</td>\n",
       "      <td>FAIL</td>\n",
       "    </tr>\n",
       "    <tr>\n",
       "      <th>61</th>\n",
       "      <td>210130116501</td>\n",
       "      <td>Patel Vraj Rajnikant</td>\n",
       "      <td>12</td>\n",
       "      <td>17</td>\n",
       "      <td>3</td>\n",
       "      <td>14</td>\n",
       "      <td>46</td>\n",
       "      <td>38.33</td>\n",
       "      <td>FAIL</td>\n",
       "    </tr>\n",
       "    <tr>\n",
       "      <th>63</th>\n",
       "      <td>210130116503</td>\n",
       "      <td>Rathva Jaydeepsinh</td>\n",
       "      <td>0</td>\n",
       "      <td>4</td>\n",
       "      <td>0</td>\n",
       "      <td>0</td>\n",
       "      <td>4</td>\n",
       "      <td>3.33</td>\n",
       "      <td>FAIL</td>\n",
       "    </tr>\n",
       "    <tr>\n",
       "      <th>74</th>\n",
       "      <td>210130116514</td>\n",
       "      <td>Chaudhari Vaishalikumari Kavjibhai</td>\n",
       "      <td>6</td>\n",
       "      <td>20</td>\n",
       "      <td>6</td>\n",
       "      <td>12</td>\n",
       "      <td>44</td>\n",
       "      <td>36.67</td>\n",
       "      <td>FAIL</td>\n",
       "    </tr>\n",
       "  </tbody>\n",
       "</table>\n",
       "</div>"
      ],
      "text/plain": [
       "    ENROLLMENT NO                                NAME  OOP  PEM  OS  COA  \\\n",
       "2    200130116003        Popatiya Munavvar Jarjisbhai   15   21   6   17   \n",
       "10   200130116013            Pandar Nayan Laxamanbhai    5   20  12    5   \n",
       "23   200130116027   Chaudhari Niralikumari Sureshbhai    5   20  12   12   \n",
       "35   200130116039               Rank Preet Dineshbhai    8   20   6    6   \n",
       "43   200130116048        Desai Srujankumar Dineshbhai   17   23   8   14   \n",
       "48   200130116053            Patel Aksh Ghanshyambhai    3   17   9   12   \n",
       "52   200130116057     Chaudhari Shraddhaben Nathubhai    9   26  12    8   \n",
       "53   200130116058              Damor Smit Chhaganbhai    0   12   5    3   \n",
       "54   200130116059                Aaditya.N.Chaturvedi   24   20   9   12   \n",
       "55   200130116060            Gatecha Soham Pankajbhai   17   23   9    9   \n",
       "59   200130116065            Vasanka Nevil Rakeshbhai   12   27   6   12   \n",
       "61   210130116501                Patel Vraj Rajnikant   12   17   3   14   \n",
       "63   210130116503                  Rathva Jaydeepsinh    0    4   0    0   \n",
       "74   210130116514  Chaudhari Vaishalikumari Kavjibhai    6   20   6   12   \n",
       "\n",
       "    TOTAL  PERCENTAGE RESULT  \n",
       "2      59       49.17   FAIL  \n",
       "10     42       35.00   FAIL  \n",
       "23     49       40.83   FAIL  \n",
       "35     40       33.33   FAIL  \n",
       "43     62       51.67   FAIL  \n",
       "48     41       34.17   FAIL  \n",
       "52     55       45.83   FAIL  \n",
       "53     20       16.67   FAIL  \n",
       "54     65       54.17   FAIL  \n",
       "55     58       48.33   FAIL  \n",
       "59     57       47.50   FAIL  \n",
       "61     46       38.33   FAIL  \n",
       "63      4        3.33   FAIL  \n",
       "74     44       36.67   FAIL  "
      ]
     },
     "execution_count": 77,
     "metadata": {},
     "output_type": "execute_result"
    }
   ],
   "source": [
    "fail_student=df.groupby('RESULT')\n",
    "fail_student.get_group('FAIL')"
   ]
  },
  {
   "cell_type": "code",
   "execution_count": 78,
   "id": "c0f103ae",
   "metadata": {},
   "outputs": [
    {
     "data": {
      "text/plain": [
       "92.5"
      ]
     },
     "execution_count": 78,
     "metadata": {},
     "output_type": "execute_result"
    }
   ],
   "source": [
    "df.PERCENTAGE.max()"
   ]
  },
  {
   "cell_type": "code",
   "execution_count": 79,
   "id": "404bacea",
   "metadata": {},
   "outputs": [
    {
     "data": {
      "text/plain": [
       "8    Patel Arya Jatinkumar\n",
       "Name: NAME, dtype: object"
      ]
     },
     "execution_count": 79,
     "metadata": {},
     "output_type": "execute_result"
    }
   ],
   "source": [
    "df.NAME[df['PERCENTAGE']==92.5]\n",
    "   "
   ]
  },
  {
   "cell_type": "code",
   "execution_count": 80,
   "id": "c0cb0138",
   "metadata": {},
   "outputs": [],
   "source": [
    "# now in dataset we have see that how many there is fail also we see highest and lowest marks.\n",
    "# now we see what is average result of class."
   ]
  },
  {
   "cell_type": "markdown",
   "id": "a8b43344",
   "metadata": {},
   "source": [
    "# avearge result of class."
   ]
  },
  {
   "cell_type": "code",
   "execution_count": 81,
   "id": "d494d6b8",
   "metadata": {},
   "outputs": [
    {
     "data": {
      "text/plain": [
       "ENROLLMENT NO    76\n",
       "NAME             76\n",
       "OOP              76\n",
       "PEM              76\n",
       "OS               76\n",
       "COA              76\n",
       "TOTAL            76\n",
       "PERCENTAGE       76\n",
       "RESULT           76\n",
       "dtype: int64"
      ]
     },
     "execution_count": 81,
     "metadata": {},
     "output_type": "execute_result"
    }
   ],
   "source": [
    "df.count()"
   ]
  },
  {
   "cell_type": "code",
   "execution_count": 82,
   "id": "3dc7c54c",
   "metadata": {},
   "outputs": [],
   "source": [
    "# so total we have 76 rows means total number of student.\n",
    "# avarage result of class = total number of pass student/total number of student.\n"
   ]
  },
  {
   "cell_type": "code",
   "execution_count": null,
   "id": "c61960ab",
   "metadata": {},
   "outputs": [],
   "source": [
    "\n",
    "\n"
   ]
  },
  {
   "cell_type": "code",
   "execution_count": null,
   "id": "28b4b7a8",
   "metadata": {},
   "outputs": [],
   "source": []
  },
  {
   "cell_type": "code",
   "execution_count": 84,
   "id": "37b2dfc1",
   "metadata": {},
   "outputs": [],
   "source": [
    "# from above total number of fail student we get so it is 14 so we do simple math\n",
    "# total number of pass student = 76 - 14 = 62\n",
    "# if here we have major data then we do something else to find total number of pass student\n",
    "# but we have small number of data so we can do it manualy."
   ]
  },
  {
   "cell_type": "code",
   "execution_count": 85,
   "id": "cd34fdf1",
   "metadata": {},
   "outputs": [],
   "source": [
    "# avarage_result = 62/76 * 100"
   ]
  },
  {
   "cell_type": "code",
   "execution_count": 86,
   "id": "358bc411",
   "metadata": {},
   "outputs": [
    {
     "data": {
      "text/plain": [
       "81.57894736842105"
      ]
     },
     "execution_count": 86,
     "metadata": {},
     "output_type": "execute_result"
    }
   ],
   "source": [
    "62/76*100"
   ]
  },
  {
   "cell_type": "code",
   "execution_count": 87,
   "id": "35005465",
   "metadata": {},
   "outputs": [],
   "source": [
    "avarage_result = 81.57894736842105"
   ]
  },
  {
   "cell_type": "code",
   "execution_count": 88,
   "id": "1cf6ccc6",
   "metadata": {},
   "outputs": [],
   "source": [
    "# now this alll thing done now here we do make model and test it with our actal data\n",
    "# for that we choose os subject cloumn becuse it os there is realaistic data means variability is less\n",
    "# so we get good acuracy\n",
    "# if we want to do with other subject we dan do it easily\n",
    "\n"
   ]
  },
  {
   "cell_type": "code",
   "execution_count": 89,
   "id": "f9421daa",
   "metadata": {},
   "outputs": [],
   "source": [
    "# before prediction we draw one chart with student enrollment no with total"
   ]
  },
  {
   "cell_type": "code",
   "execution_count": 103,
   "id": "e514a861",
   "metadata": {},
   "outputs": [
    {
     "data": {
      "text/plain": [
       "[<matplotlib.lines.Line2D at 0x7fe7a5a667c0>]"
      ]
     },
     "execution_count": 103,
     "metadata": {},
     "output_type": "execute_result"
    },
    {
     "data": {
      "image/png": "[encoded data removed]",
      "text/plain": [
       "<Figure size 432x288 with 1 Axes>"
      ]
     },
     "metadata": {
      "needs_background": "light"
     },
     "output_type": "display_data"
    }
   ],
   "source": [
    "x1=df['PERCENTAGE']\n",
    "y1=df['TOTAL']\n",
    "plt.plot(x,y,color='red')"
   ]
  },
  {
   "cell_type": "code",
   "execution_count": null,
   "id": "15f82c03",
   "metadata": {},
   "outputs": [],
   "source": [
    "# AS WE KNOW AS TOTAL HIGH PERCENTAGE IS HIGH.\n",
    "# I ALSO TRY TO DRAW GRAPH BETWEEN TOTAL AND OS BUT IT IS VERY DANGEROUS NO ONE CAN UNDERSTAND IT.\n",
    "# SO I DRAW THIS."
   ]
  },
  {
   "cell_type": "code",
   "execution_count": 136,
   "id": "9602d454",
   "metadata": {},
   "outputs": [],
   "source": [
    "x=df[['TOTAL']]\n",
    "y=df[['OS']]"
   ]
  },
  {
   "cell_type": "code",
   "execution_count": 137,
   "id": "a815ce81",
   "metadata": {},
   "outputs": [],
   "source": [
    "from sklearn.model_selection import train_test_split"
   ]
  },
  {
   "cell_type": "code",
   "execution_count": 138,
   "id": "be3cedc7",
   "metadata": {},
   "outputs": [],
   "source": [
    "x_train,x_test,y_train,y_test = train_test_split(x,y,test_size=0.3)"
   ]
  },
  {
   "cell_type": "code",
   "execution_count": 139,
   "id": "1d5320a5",
   "metadata": {},
   "outputs": [
    {
     "data": {
      "text/plain": [
       "53"
      ]
     },
     "execution_count": 139,
     "metadata": {},
     "output_type": "execute_result"
    }
   ],
   "source": [
    "len(x_train)"
   ]
  },
  {
   "cell_type": "code",
   "execution_count": 140,
   "id": "6713e456",
   "metadata": {},
   "outputs": [
    {
     "data": {
      "text/plain": [
       "23"
      ]
     },
     "execution_count": 140,
     "metadata": {},
     "output_type": "execute_result"
    }
   ],
   "source": [
    "len(y_test)"
   ]
  },
  {
   "cell_type": "code",
   "execution_count": 141,
   "id": "1e3c08d6",
   "metadata": {},
   "outputs": [
    {
     "data": {
      "text/plain": [
       "(76,)"
      ]
     },
     "execution_count": 141,
     "metadata": {},
     "output_type": "execute_result"
    }
   ],
   "source": [
    "Y.shape"
   ]
  },
  {
   "cell_type": "code",
   "execution_count": 142,
   "id": "19508ad3",
   "metadata": {},
   "outputs": [
    {
     "data": {
      "text/plain": [
       "53"
      ]
     },
     "execution_count": 142,
     "metadata": {},
     "output_type": "execute_result"
    }
   ],
   "source": [
    "len(y_train)"
   ]
  },
  {
   "cell_type": "code",
   "execution_count": 155,
   "id": "925786d2",
   "metadata": {},
   "outputs": [],
   "source": [
    "from sklearn.linear_model import LinearRegression\n",
    "lf = LinearRegression()"
   ]
  },
  {
   "cell_type": "code",
   "execution_count": 156,
   "id": "e630fa12",
   "metadata": {},
   "outputs": [
    {
     "data": {
      "text/plain": [
       "LinearRegression()"
      ]
     },
     "execution_count": 156,
     "metadata": {},
     "output_type": "execute_result"
    }
   ],
   "source": [
    "lf.fit(x_train,y_train)"
   ]
  },
  {
   "cell_type": "code",
   "execution_count": 157,
   "id": "fc8349b6",
   "metadata": {},
   "outputs": [
    {
     "data": {
      "text/plain": [
       "0.8010439426152971"
      ]
     },
     "execution_count": 157,
     "metadata": {},
     "output_type": "execute_result"
    }
   ],
   "source": [
    "lf.score(x_test,y_test)"
   ]
  },
  {
   "cell_type": "code",
   "execution_count": 158,
   "id": "f29af218",
   "metadata": {},
   "outputs": [
    {
     "data": {
      "text/plain": [
       "array([[19.77168233],\n",
       "       [27.26159867],\n",
       "       [27.57367851],\n",
       "       [14.15424507],\n",
       "       [27.26159867],\n",
       "       [12.90592569],\n",
       "       [20.70792187],\n",
       "       [17.5871234 ],\n",
       "       [ 6.66432874],\n",
       "       [21.33208156],\n",
       "       [23.20456065],\n",
       "       [20.70792187],\n",
       "       [21.64416141],\n",
       "       [24.76495989],\n",
       "       [11.96968614],\n",
       "       [21.64416141],\n",
       "       [16.9629637 ],\n",
       "       [22.8924808 ],\n",
       "       [12.59384584],\n",
       "       [ 6.35224889],\n",
       "       [21.33208156],\n",
       "       [ 6.04016904],\n",
       "       [28.19783821]])"
      ]
     },
     "execution_count": 158,
     "metadata": {},
     "output_type": "execute_result"
    }
   ],
   "source": [
    "lf.predict(x_test)"
   ]
  },
  {
   "cell_type": "code",
   "execution_count": 149,
   "id": "68a6e0f8",
   "metadata": {},
   "outputs": [],
   "source": [
    "from sklearn.linear_model import LogisticRegression\n",
    "lf1 = LogisticRegression()"
   ]
  },
  {
   "cell_type": "code",
   "execution_count": 150,
   "id": "e082f3cb",
   "metadata": {},
   "outputs": [
    {
     "name": "stderr",
     "output_type": "stream",
     "text": [
      "/home/njuser/.local/lib/python3.8/site-packages/sklearn/utils/validation.py:993: DataConversionWarning: A column-vector y was passed when a 1d array was expected. Please change the shape of y to (n_samples, ), for example using ravel().\n",
      "  y = column_or_1d(y, warn=True)\n",
      "/home/njuser/.local/lib/python3.8/site-packages/sklearn/linear_model/_logistic.py:814: ConvergenceWarning: lbfgs failed to converge (status=1):\n",
      "STOP: TOTAL NO. of ITERATIONS REACHED LIMIT.\n",
      "\n",
      "Increase the number of iterations (max_iter) or scale the data as shown in:\n",
      "    https://scikit-learn.org/stable/modules/preprocessing.html\n",
      "Please also refer to the documentation for alternative solver options:\n",
      "    https://scikit-learn.org/stable/modules/linear_model.html#logistic-regression\n",
      "  n_iter_i = _check_optimize_result(\n"
     ]
    },
    {
     "data": {
      "text/plain": [
       "LogisticRegression()"
      ]
     },
     "execution_count": 150,
     "metadata": {},
     "output_type": "execute_result"
    }
   ],
   "source": [
    "lf1.fit(x_train,y_train)"
   ]
  },
  {
   "cell_type": "code",
   "execution_count": 151,
   "id": "12f6d4a1",
   "metadata": {},
   "outputs": [
    {
     "data": {
      "text/plain": [
       "0.043478260869565216"
      ]
     },
     "execution_count": 151,
     "metadata": {},
     "output_type": "execute_result"
    }
   ],
   "source": [
    "lf1.score(x_test,y_test)"
   ]
  },
  {
   "cell_type": "code",
   "execution_count": 153,
   "id": "77d7c7cc",
   "metadata": {},
   "outputs": [
    {
     "data": {
      "text/plain": [
       "array([20, 20, 20, 12, 20, 12, 20, 20, 12, 20, 20, 20, 20, 20, 12, 20, 20,\n",
       "       20, 12, 12, 20, 12, 26])"
      ]
     },
     "execution_count": 153,
     "metadata": {},
     "output_type": "execute_result"
    }
   ],
   "source": [
    "lf1.predict(x_test)"
   ]
  },
  {
   "cell_type": "code",
   "execution_count": null,
   "id": "21be0f90",
   "metadata": {},
   "outputs": [],
   "source": [
    "# so as you can see we test two models and we get good performance at linerregression but at he same time \n",
    "# we get so much less score at logistic regression becuase as you can see from our grapgh why this happen."
   ]
  },
  {
   "cell_type": "code",
   "execution_count": null,
   "id": "05450114",
   "metadata": {},
   "outputs": [],
   "source": [
    "# thank you."
   ]
  }
 ],
 "metadata": {
  "kernelspec": {
   "display_name": "Python 3 (ipykernel)",
   "language": "python",
   "name": "python3"
  },
  "language_info": {
   "codemirror_mode": {
    "name": "ipython",
    "version": 3
   },
   "file_extension": ".py",
   "mimetype": "text/x-python",
   "name": "python",
   "nbconvert_exporter": "python",
   "pygments_lexer": "ipython3",
   "version": "3.8.2"
  }
 },
 "nbformat": 4,
 "nbformat_minor": 5
}
